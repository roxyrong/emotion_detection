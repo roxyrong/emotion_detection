{
  "cells": [
    {
      "cell_type": "markdown",
      "metadata": {
        "id": "view-in-github",
        "colab_type": "text"
      },
      "source": [
        "<a href=\"https://colab.research.google.com/github/roxyrong/emotion_detection/blob/main/Transfer_Learning.ipynb\" target=\"_parent\"><img src=\"https://colab.research.google.com/assets/colab-badge.svg\" alt=\"Open In Colab\"/></a>"
      ]
    },
    {
      "cell_type": "code",
      "execution_count": null,
      "metadata": {
        "colab": {
          "base_uri": "https://localhost:8080/"
        },
        "id": "4bCSfzFnV4kN",
        "outputId": "c0b5e4a6-90b4-4e23-afab-66c266c504d3"
      },
      "outputs": [
        {
          "output_type": "stream",
          "name": "stdout",
          "text": [
            "Mounted at /content/drive\n"
          ]
        }
      ],
      "source": [
        "from google.colab import drive\n",
        "drive.mount('/content/drive')"
      ]
    },
    {
      "cell_type": "code",
      "execution_count": null,
      "metadata": {
        "id": "4IBcS5R5V8Po"
      },
      "outputs": [],
      "source": [
        "import pandas as pd\n",
        "import numpy as np\n",
        "from matplotlib import pyplot as plt\n",
        "import os\n",
        "import librosa\n",
        "import librosa.display\n",
        "import math\n",
        "import random\n",
        "import tensorflow as tf\n",
        "from sklearn.metrics import accuracy_score, precision_score, recall_score, f1_score, confusion_matrix\n",
        "import seaborn as sns\n",
        "#from google.colab import auth\n",
        "#from google.cloud import storage\n",
        "#auth.authenticate_user()\n",
        "#client = storage.Client()"
      ]
    },
    {
      "cell_type": "code",
      "execution_count": null,
      "metadata": {
        "id": "sEVCtg3Tt5s2"
      },
      "outputs": [],
      "source": [
        "from keras.models import Model, Sequential\n",
        "from keras.layers import Dense, GlobalAveragePooling2D, Dropout, Flatten, MaxPooling2D\n",
        "from keras.applications.vgg16 import VGG16\n",
        "from keras.preprocessing.image import ImageDataGenerator"
      ]
    },
    {
      "cell_type": "code",
      "execution_count": null,
      "metadata": {
        "id": "oEZJD0mmXU0B"
      },
      "outputs": [],
      "source": [
        "image_dir = '/content/drive/MyDrive/W207 project/Final Project - Video Process/Process_3_Matrix_Conversion/cnnlstm_dataset_crop.npy'\n",
        "image_arr = np.load(image_dir, allow_pickle=True)"
      ]
    },
    {
      "cell_type": "code",
      "execution_count": null,
      "metadata": {
        "colab": {
          "base_uri": "https://localhost:8080/",
          "height": 112
        },
        "id": "qZ24o_VJsjIM",
        "outputId": "c1d5804c-5f9e-4589-cc05-ba624fad7f94"
      },
      "outputs": [
        {
          "data": {
            "text/html": [
              "\n",
              "  <div id=\"df-15ee5a74-50f3-41a8-a61d-ac6bfdc885f3\">\n",
              "    <div class=\"colab-df-container\">\n",
              "      <div>\n",
              "<style scoped>\n",
              "    .dataframe tbody tr th:only-of-type {\n",
              "        vertical-align: middle;\n",
              "    }\n",
              "\n",
              "    .dataframe tbody tr th {\n",
              "        vertical-align: top;\n",
              "    }\n",
              "\n",
              "    .dataframe thead th {\n",
              "        text-align: right;\n",
              "    }\n",
              "</style>\n",
              "<table border=\"1\" class=\"dataframe\">\n",
              "  <thead>\n",
              "    <tr style=\"text-align: right;\">\n",
              "      <th></th>\n",
              "      <th>image</th>\n",
              "      <th>label</th>\n",
              "      <th>speaker</th>\n",
              "      <th>hotcode</th>\n",
              "    </tr>\n",
              "  </thead>\n",
              "  <tbody>\n",
              "    <tr>\n",
              "      <th>0</th>\n",
              "      <td>[[[4, 8, 9], [3, 7, 8], [3, 8, 7], [4, 9, 8], ...</td>\n",
              "      <td>a</td>\n",
              "      <td>DC</td>\n",
              "      <td>0</td>\n",
              "    </tr>\n",
              "    <tr>\n",
              "      <th>1</th>\n",
              "      <td>[[[6, 8, 9], [6, 8, 8], [4, 9, 7], [4, 10, 5],...</td>\n",
              "      <td>a</td>\n",
              "      <td>DC</td>\n",
              "      <td>0</td>\n",
              "    </tr>\n",
              "  </tbody>\n",
              "</table>\n",
              "</div>\n",
              "      <button class=\"colab-df-convert\" onclick=\"convertToInteractive('df-15ee5a74-50f3-41a8-a61d-ac6bfdc885f3')\"\n",
              "              title=\"Convert this dataframe to an interactive table.\"\n",
              "              style=\"display:none;\">\n",
              "        \n",
              "  <svg xmlns=\"http://www.w3.org/2000/svg\" height=\"24px\"viewBox=\"0 0 24 24\"\n",
              "       width=\"24px\">\n",
              "    <path d=\"M0 0h24v24H0V0z\" fill=\"none\"/>\n",
              "    <path d=\"M18.56 5.44l.94 2.06.94-2.06 2.06-.94-2.06-.94-.94-2.06-.94 2.06-2.06.94zm-11 1L8.5 8.5l.94-2.06 2.06-.94-2.06-.94L8.5 2.5l-.94 2.06-2.06.94zm10 10l.94 2.06.94-2.06 2.06-.94-2.06-.94-.94-2.06-.94 2.06-2.06.94z\"/><path d=\"M17.41 7.96l-1.37-1.37c-.4-.4-.92-.59-1.43-.59-.52 0-1.04.2-1.43.59L10.3 9.45l-7.72 7.72c-.78.78-.78 2.05 0 2.83L4 21.41c.39.39.9.59 1.41.59.51 0 1.02-.2 1.41-.59l7.78-7.78 2.81-2.81c.8-.78.8-2.07 0-2.86zM5.41 20L4 18.59l7.72-7.72 1.47 1.35L5.41 20z\"/>\n",
              "  </svg>\n",
              "      </button>\n",
              "      \n",
              "  <style>\n",
              "    .colab-df-container {\n",
              "      display:flex;\n",
              "      flex-wrap:wrap;\n",
              "      gap: 12px;\n",
              "    }\n",
              "\n",
              "    .colab-df-convert {\n",
              "      background-color: #E8F0FE;\n",
              "      border: none;\n",
              "      border-radius: 50%;\n",
              "      cursor: pointer;\n",
              "      display: none;\n",
              "      fill: #1967D2;\n",
              "      height: 32px;\n",
              "      padding: 0 0 0 0;\n",
              "      width: 32px;\n",
              "    }\n",
              "\n",
              "    .colab-df-convert:hover {\n",
              "      background-color: #E2EBFA;\n",
              "      box-shadow: 0px 1px 2px rgba(60, 64, 67, 0.3), 0px 1px 3px 1px rgba(60, 64, 67, 0.15);\n",
              "      fill: #174EA6;\n",
              "    }\n",
              "\n",
              "    [theme=dark] .colab-df-convert {\n",
              "      background-color: #3B4455;\n",
              "      fill: #D2E3FC;\n",
              "    }\n",
              "\n",
              "    [theme=dark] .colab-df-convert:hover {\n",
              "      background-color: #434B5C;\n",
              "      box-shadow: 0px 1px 3px 1px rgba(0, 0, 0, 0.15);\n",
              "      filter: drop-shadow(0px 1px 2px rgba(0, 0, 0, 0.3));\n",
              "      fill: #FFFFFF;\n",
              "    }\n",
              "  </style>\n",
              "\n",
              "      <script>\n",
              "        const buttonEl =\n",
              "          document.querySelector('#df-15ee5a74-50f3-41a8-a61d-ac6bfdc885f3 button.colab-df-convert');\n",
              "        buttonEl.style.display =\n",
              "          google.colab.kernel.accessAllowed ? 'block' : 'none';\n",
              "\n",
              "        async function convertToInteractive(key) {\n",
              "          const element = document.querySelector('#df-15ee5a74-50f3-41a8-a61d-ac6bfdc885f3');\n",
              "          const dataTable =\n",
              "            await google.colab.kernel.invokeFunction('convertToInteractive',\n",
              "                                                     [key], {});\n",
              "          if (!dataTable) return;\n",
              "\n",
              "          const docLinkHtml = 'Like what you see? Visit the ' +\n",
              "            '<a target=\"_blank\" href=https://colab.research.google.com/notebooks/data_table.ipynb>data table notebook</a>'\n",
              "            + ' to learn more about interactive tables.';\n",
              "          element.innerHTML = '';\n",
              "          dataTable['output_type'] = 'display_data';\n",
              "          await google.colab.output.renderOutput(dataTable, element);\n",
              "          const docLink = document.createElement('div');\n",
              "          docLink.innerHTML = docLinkHtml;\n",
              "          element.appendChild(docLink);\n",
              "        }\n",
              "      </script>\n",
              "    </div>\n",
              "  </div>\n",
              "  "
            ],
            "text/plain": [
              "                                               image label speaker hotcode\n",
              "0  [[[4, 8, 9], [3, 7, 8], [3, 8, 7], [4, 9, 8], ...     a      DC       0\n",
              "1  [[[6, 8, 9], [6, 8, 8], [4, 9, 7], [4, 10, 5],...     a      DC       0"
            ]
          },
          "execution_count": 6,
          "metadata": {},
          "output_type": "execute_result"
        }
      ],
      "source": [
        "image_df = pd.DataFrame(image_arr, columns=['image', 'label', 'speaker', 'hotcode'])\n",
        "new_df = image_df.explode('image').reset_index(drop=True)\n",
        "new_df.head(2)"
      ]
    },
    {
      "cell_type": "code",
      "execution_count": null,
      "metadata": {
        "colab": {
          "base_uri": "https://localhost:8080/"
        },
        "id": "tfxwKfegs58o",
        "outputId": "4b0ad6d3-b763-4438-9916-2ac9dae0bd5d"
      },
      "outputs": [
        {
          "data": {
            "text/plain": [
              "(64, 64, 3)"
            ]
          },
          "execution_count": 7,
          "metadata": {},
          "output_type": "execute_result"
        }
      ],
      "source": [
        "new_df.image[0].shape"
      ]
    },
    {
      "cell_type": "code",
      "execution_count": null,
      "metadata": {
        "colab": {
          "base_uri": "https://localhost:8080/",
          "height": 363
        },
        "id": "M4af2pHavtge",
        "outputId": "363ce2ce-5a03-490f-bddf-d22058ea2f43"
      },
      "outputs": [
        {
          "data": {
            "text/html": [
              "\n",
              "  <div id=\"df-39b4d346-48c8-49de-bf2d-ae95c04fe8b9\">\n",
              "    <div class=\"colab-df-container\">\n",
              "      <div>\n",
              "<style scoped>\n",
              "    .dataframe tbody tr th:only-of-type {\n",
              "        vertical-align: middle;\n",
              "    }\n",
              "\n",
              "    .dataframe tbody tr th {\n",
              "        vertical-align: top;\n",
              "    }\n",
              "\n",
              "    .dataframe thead th {\n",
              "        text-align: right;\n",
              "    }\n",
              "</style>\n",
              "<table border=\"1\" class=\"dataframe\">\n",
              "  <thead>\n",
              "    <tr style=\"text-align: right;\">\n",
              "      <th></th>\n",
              "      <th>image</th>\n",
              "      <th>label</th>\n",
              "      <th>speaker</th>\n",
              "      <th>hotcode</th>\n",
              "    </tr>\n",
              "  </thead>\n",
              "  <tbody>\n",
              "    <tr>\n",
              "      <th>0</th>\n",
              "      <td>[[[0, 6, 3], [0, 6, 3], [2, 4, 4], [5, 5, 5], ...</td>\n",
              "      <td>f</td>\n",
              "      <td>JK</td>\n",
              "      <td>6</td>\n",
              "    </tr>\n",
              "    <tr>\n",
              "      <th>1</th>\n",
              "      <td>[[[0, 4, 5], [1, 5, 6], [1, 6, 5], [1, 6, 5], ...</td>\n",
              "      <td>h</td>\n",
              "      <td>KL</td>\n",
              "      <td>5</td>\n",
              "    </tr>\n",
              "    <tr>\n",
              "      <th>2</th>\n",
              "      <td>[[[4, 10, 9], [5, 10, 9], [7, 9, 10], [9, 9, 9...</td>\n",
              "      <td>sa</td>\n",
              "      <td>DC</td>\n",
              "      <td>3</td>\n",
              "    </tr>\n",
              "    <tr>\n",
              "      <th>3</th>\n",
              "      <td>[[[1, 7, 2], [1, 7, 2], [4, 6, 6], [3, 8, 7], ...</td>\n",
              "      <td>a</td>\n",
              "      <td>JK</td>\n",
              "      <td>0</td>\n",
              "    </tr>\n",
              "    <tr>\n",
              "      <th>4</th>\n",
              "      <td>[[[2, 4, 5], [2, 4, 5], [0, 5, 4], [1, 6, 5], ...</td>\n",
              "      <td>n</td>\n",
              "      <td>KL</td>\n",
              "      <td>1</td>\n",
              "    </tr>\n",
              "    <tr>\n",
              "      <th>5</th>\n",
              "      <td>[[[4, 9, 10], [4, 9, 10], [5, 10, 9], [5, 10, ...</td>\n",
              "      <td>d</td>\n",
              "      <td>DC</td>\n",
              "      <td>4</td>\n",
              "    </tr>\n",
              "    <tr>\n",
              "      <th>6</th>\n",
              "      <td>[[[0, 3, 7], [0, 4, 5], [0, 5, 4], [0, 5, 3], ...</td>\n",
              "      <td>d</td>\n",
              "      <td>JK</td>\n",
              "      <td>4</td>\n",
              "    </tr>\n",
              "    <tr>\n",
              "      <th>7</th>\n",
              "      <td>[[[0, 5, 4], [0, 6, 5], [1, 5, 6], [3, 5, 5], ...</td>\n",
              "      <td>h</td>\n",
              "      <td>JK</td>\n",
              "      <td>5</td>\n",
              "    </tr>\n",
              "    <tr>\n",
              "      <th>8</th>\n",
              "      <td>[[[0, 5, 4], [0, 5, 4], [1, 5, 6], [1, 5, 6], ...</td>\n",
              "      <td>sa</td>\n",
              "      <td>KL</td>\n",
              "      <td>3</td>\n",
              "    </tr>\n",
              "    <tr>\n",
              "      <th>9</th>\n",
              "      <td>[[[0, 6, 5], [1, 7, 6], [5, 7, 8], [5, 7, 7], ...</td>\n",
              "      <td>h</td>\n",
              "      <td>JK</td>\n",
              "      <td>5</td>\n",
              "    </tr>\n",
              "  </tbody>\n",
              "</table>\n",
              "</div>\n",
              "      <button class=\"colab-df-convert\" onclick=\"convertToInteractive('df-39b4d346-48c8-49de-bf2d-ae95c04fe8b9')\"\n",
              "              title=\"Convert this dataframe to an interactive table.\"\n",
              "              style=\"display:none;\">\n",
              "        \n",
              "  <svg xmlns=\"http://www.w3.org/2000/svg\" height=\"24px\"viewBox=\"0 0 24 24\"\n",
              "       width=\"24px\">\n",
              "    <path d=\"M0 0h24v24H0V0z\" fill=\"none\"/>\n",
              "    <path d=\"M18.56 5.44l.94 2.06.94-2.06 2.06-.94-2.06-.94-.94-2.06-.94 2.06-2.06.94zm-11 1L8.5 8.5l.94-2.06 2.06-.94-2.06-.94L8.5 2.5l-.94 2.06-2.06.94zm10 10l.94 2.06.94-2.06 2.06-.94-2.06-.94-.94-2.06-.94 2.06-2.06.94z\"/><path d=\"M17.41 7.96l-1.37-1.37c-.4-.4-.92-.59-1.43-.59-.52 0-1.04.2-1.43.59L10.3 9.45l-7.72 7.72c-.78.78-.78 2.05 0 2.83L4 21.41c.39.39.9.59 1.41.59.51 0 1.02-.2 1.41-.59l7.78-7.78 2.81-2.81c.8-.78.8-2.07 0-2.86zM5.41 20L4 18.59l7.72-7.72 1.47 1.35L5.41 20z\"/>\n",
              "  </svg>\n",
              "      </button>\n",
              "      \n",
              "  <style>\n",
              "    .colab-df-container {\n",
              "      display:flex;\n",
              "      flex-wrap:wrap;\n",
              "      gap: 12px;\n",
              "    }\n",
              "\n",
              "    .colab-df-convert {\n",
              "      background-color: #E8F0FE;\n",
              "      border: none;\n",
              "      border-radius: 50%;\n",
              "      cursor: pointer;\n",
              "      display: none;\n",
              "      fill: #1967D2;\n",
              "      height: 32px;\n",
              "      padding: 0 0 0 0;\n",
              "      width: 32px;\n",
              "    }\n",
              "\n",
              "    .colab-df-convert:hover {\n",
              "      background-color: #E2EBFA;\n",
              "      box-shadow: 0px 1px 2px rgba(60, 64, 67, 0.3), 0px 1px 3px 1px rgba(60, 64, 67, 0.15);\n",
              "      fill: #174EA6;\n",
              "    }\n",
              "\n",
              "    [theme=dark] .colab-df-convert {\n",
              "      background-color: #3B4455;\n",
              "      fill: #D2E3FC;\n",
              "    }\n",
              "\n",
              "    [theme=dark] .colab-df-convert:hover {\n",
              "      background-color: #434B5C;\n",
              "      box-shadow: 0px 1px 3px 1px rgba(0, 0, 0, 0.15);\n",
              "      filter: drop-shadow(0px 1px 2px rgba(0, 0, 0, 0.3));\n",
              "      fill: #FFFFFF;\n",
              "    }\n",
              "  </style>\n",
              "\n",
              "      <script>\n",
              "        const buttonEl =\n",
              "          document.querySelector('#df-39b4d346-48c8-49de-bf2d-ae95c04fe8b9 button.colab-df-convert');\n",
              "        buttonEl.style.display =\n",
              "          google.colab.kernel.accessAllowed ? 'block' : 'none';\n",
              "\n",
              "        async function convertToInteractive(key) {\n",
              "          const element = document.querySelector('#df-39b4d346-48c8-49de-bf2d-ae95c04fe8b9');\n",
              "          const dataTable =\n",
              "            await google.colab.kernel.invokeFunction('convertToInteractive',\n",
              "                                                     [key], {});\n",
              "          if (!dataTable) return;\n",
              "\n",
              "          const docLinkHtml = 'Like what you see? Visit the ' +\n",
              "            '<a target=\"_blank\" href=https://colab.research.google.com/notebooks/data_table.ipynb>data table notebook</a>'\n",
              "            + ' to learn more about interactive tables.';\n",
              "          element.innerHTML = '';\n",
              "          dataTable['output_type'] = 'display_data';\n",
              "          await google.colab.output.renderOutput(dataTable, element);\n",
              "          const docLink = document.createElement('div');\n",
              "          docLink.innerHTML = docLinkHtml;\n",
              "          element.appendChild(docLink);\n",
              "        }\n",
              "      </script>\n",
              "    </div>\n",
              "  </div>\n",
              "  "
            ],
            "text/plain": [
              "                                               image label speaker hotcode\n",
              "0  [[[0, 6, 3], [0, 6, 3], [2, 4, 4], [5, 5, 5], ...     f      JK       6\n",
              "1  [[[0, 4, 5], [1, 5, 6], [1, 6, 5], [1, 6, 5], ...     h      KL       5\n",
              "2  [[[4, 10, 9], [5, 10, 9], [7, 9, 10], [9, 9, 9...    sa      DC       3\n",
              "3  [[[1, 7, 2], [1, 7, 2], [4, 6, 6], [3, 8, 7], ...     a      JK       0\n",
              "4  [[[2, 4, 5], [2, 4, 5], [0, 5, 4], [1, 6, 5], ...     n      KL       1\n",
              "5  [[[4, 9, 10], [4, 9, 10], [5, 10, 9], [5, 10, ...     d      DC       4\n",
              "6  [[[0, 3, 7], [0, 4, 5], [0, 5, 4], [0, 5, 3], ...     d      JK       4\n",
              "7  [[[0, 5, 4], [0, 6, 5], [1, 5, 6], [3, 5, 5], ...     h      JK       5\n",
              "8  [[[0, 5, 4], [0, 5, 4], [1, 5, 6], [1, 5, 6], ...    sa      KL       3\n",
              "9  [[[0, 6, 5], [1, 7, 6], [5, 7, 8], [5, 7, 7], ...     h      JK       5"
            ]
          },
          "execution_count": 7,
          "metadata": {},
          "output_type": "execute_result"
        }
      ],
      "source": [
        "# shufflt the dataset\n",
        "image_df = new_df.sample(frac=1).reset_index(drop=True)\n",
        "image_df.head(10)"
      ]
    },
    {
      "cell_type": "code",
      "execution_count": null,
      "metadata": {
        "colab": {
          "base_uri": "https://localhost:8080/"
        },
        "id": "rhkOmAnFtZx1",
        "outputId": "8ed81d7b-5cfa-476c-bc71-f377e00512c1"
      },
      "outputs": [
        {
          "name": "stdout",
          "output_type": "stream",
          "text": [
            "Epoch 1/50\n",
            "60/60 [==============================] - 53s 872ms/step - loss: 1.9178 - accuracy: 0.2453 - val_loss: 1.7243 - val_accuracy: 0.3313\n",
            "Epoch 2/50\n",
            "60/60 [==============================] - 52s 862ms/step - loss: 1.7574 - accuracy: 0.3130 - val_loss: 1.6236 - val_accuracy: 0.3167\n",
            "Epoch 3/50\n",
            "60/60 [==============================] - 51s 860ms/step - loss: 1.6802 - accuracy: 0.3484 - val_loss: 1.5440 - val_accuracy: 0.4437\n",
            "Epoch 4/50\n",
            "60/60 [==============================] - 51s 849ms/step - loss: 1.6301 - accuracy: 0.3802 - val_loss: 1.5384 - val_accuracy: 0.4187\n",
            "Epoch 5/50\n",
            "60/60 [==============================] - 52s 865ms/step - loss: 1.5339 - accuracy: 0.4281 - val_loss: 1.5164 - val_accuracy: 0.3792\n",
            "Epoch 6/50\n",
            "60/60 [==============================] - 52s 866ms/step - loss: 1.5241 - accuracy: 0.4182 - val_loss: 1.4406 - val_accuracy: 0.4167\n",
            "Epoch 7/50\n",
            "60/60 [==============================] - 52s 866ms/step - loss: 1.4962 - accuracy: 0.4344 - val_loss: 1.4235 - val_accuracy: 0.4292\n",
            "Epoch 8/50\n",
            "60/60 [==============================] - 51s 849ms/step - loss: 1.4371 - accuracy: 0.4563 - val_loss: 1.3708 - val_accuracy: 0.4750\n",
            "Epoch 9/50\n",
            "60/60 [==============================] - 51s 859ms/step - loss: 1.4118 - accuracy: 0.4661 - val_loss: 1.3342 - val_accuracy: 0.5479\n",
            "Epoch 10/50\n",
            "60/60 [==============================] - 52s 867ms/step - loss: 1.3937 - accuracy: 0.4844 - val_loss: 1.3151 - val_accuracy: 0.5146\n",
            "Epoch 11/50\n",
            "60/60 [==============================] - 51s 855ms/step - loss: 1.3773 - accuracy: 0.4823 - val_loss: 1.2333 - val_accuracy: 0.5792\n",
            "Epoch 12/50\n",
            "60/60 [==============================] - 51s 854ms/step - loss: 1.3930 - accuracy: 0.4781 - val_loss: 1.2119 - val_accuracy: 0.6146\n",
            "Epoch 13/50\n",
            "60/60 [==============================] - 52s 871ms/step - loss: 1.3112 - accuracy: 0.5224 - val_loss: 1.2604 - val_accuracy: 0.5354\n",
            "Epoch 14/50\n",
            "60/60 [==============================] - 51s 858ms/step - loss: 1.3143 - accuracy: 0.4984 - val_loss: 1.2016 - val_accuracy: 0.6000\n",
            "Epoch 15/50\n",
            "60/60 [==============================] - 51s 857ms/step - loss: 1.2982 - accuracy: 0.5146 - val_loss: 1.1425 - val_accuracy: 0.6313\n",
            "Epoch 16/50\n",
            "60/60 [==============================] - 52s 866ms/step - loss: 1.3122 - accuracy: 0.5021 - val_loss: 1.1768 - val_accuracy: 0.6187\n",
            "Epoch 17/50\n",
            "60/60 [==============================] - 51s 850ms/step - loss: 1.2888 - accuracy: 0.5135 - val_loss: 1.2001 - val_accuracy: 0.5750\n",
            "Epoch 18/50\n",
            "60/60 [==============================] - 52s 868ms/step - loss: 1.2505 - accuracy: 0.5339 - val_loss: 1.1303 - val_accuracy: 0.5729\n",
            "Epoch 19/50\n",
            "60/60 [==============================] - 52s 870ms/step - loss: 1.2283 - accuracy: 0.5411 - val_loss: 1.1197 - val_accuracy: 0.6083\n",
            "Epoch 20/50\n",
            "60/60 [==============================] - 51s 857ms/step - loss: 1.2453 - accuracy: 0.5349 - val_loss: 1.0989 - val_accuracy: 0.5917\n",
            "Epoch 21/50\n",
            "60/60 [==============================] - 52s 865ms/step - loss: 1.2116 - accuracy: 0.5562 - val_loss: 1.0702 - val_accuracy: 0.6313\n",
            "Epoch 22/50\n",
            "60/60 [==============================] - 51s 853ms/step - loss: 1.1822 - accuracy: 0.5594 - val_loss: 1.1704 - val_accuracy: 0.5625\n",
            "Epoch 23/50\n",
            "60/60 [==============================] - 52s 864ms/step - loss: 1.1891 - accuracy: 0.5536 - val_loss: 1.1274 - val_accuracy: 0.5667\n",
            "Epoch 24/50\n",
            "60/60 [==============================] - 52s 869ms/step - loss: 1.1746 - accuracy: 0.5714 - val_loss: 1.1120 - val_accuracy: 0.5708\n",
            "Epoch 25/50\n",
            "60/60 [==============================] - 51s 850ms/step - loss: 1.1958 - accuracy: 0.5458 - val_loss: 0.9999 - val_accuracy: 0.6583\n",
            "Epoch 26/50\n",
            "60/60 [==============================] - 51s 852ms/step - loss: 1.1471 - accuracy: 0.5635 - val_loss: 1.0278 - val_accuracy: 0.6229\n",
            "Epoch 27/50\n",
            "60/60 [==============================] - 52s 865ms/step - loss: 1.1592 - accuracy: 0.5500 - val_loss: 1.0722 - val_accuracy: 0.6021\n",
            "Epoch 28/50\n",
            "60/60 [==============================] - 52s 871ms/step - loss: 1.1569 - accuracy: 0.5615 - val_loss: 1.0359 - val_accuracy: 0.6062\n",
            "Epoch 29/50\n",
            "60/60 [==============================] - 52s 865ms/step - loss: 1.1212 - accuracy: 0.5792 - val_loss: 0.9388 - val_accuracy: 0.6750\n",
            "Epoch 30/50\n",
            "60/60 [==============================] - 51s 855ms/step - loss: 1.1111 - accuracy: 0.5802 - val_loss: 0.9973 - val_accuracy: 0.6708\n",
            "Epoch 31/50\n",
            "60/60 [==============================] - 52s 864ms/step - loss: 1.1164 - accuracy: 0.5901 - val_loss: 0.9190 - val_accuracy: 0.7021\n",
            "Epoch 32/50\n",
            "60/60 [==============================] - 52s 864ms/step - loss: 1.1333 - accuracy: 0.5781 - val_loss: 0.9487 - val_accuracy: 0.6667\n",
            "Epoch 33/50\n",
            "60/60 [==============================] - 52s 868ms/step - loss: 1.1230 - accuracy: 0.5734 - val_loss: 1.0445 - val_accuracy: 0.6271\n",
            "Epoch 34/50\n",
            "60/60 [==============================] - 52s 867ms/step - loss: 1.0989 - accuracy: 0.5760 - val_loss: 0.9874 - val_accuracy: 0.6438\n",
            "Epoch 35/50\n",
            "60/60 [==============================] - 51s 854ms/step - loss: 1.1224 - accuracy: 0.5813 - val_loss: 1.0071 - val_accuracy: 0.6083\n",
            "Epoch 36/50\n",
            "60/60 [==============================] - 51s 860ms/step - loss: 1.1015 - accuracy: 0.5781 - val_loss: 0.9245 - val_accuracy: 0.6854\n",
            "Epoch 37/50\n",
            "60/60 [==============================] - 52s 873ms/step - loss: 1.0440 - accuracy: 0.6120 - val_loss: 0.9181 - val_accuracy: 0.6875\n",
            "Epoch 38/50\n",
            "60/60 [==============================] - 52s 864ms/step - loss: 1.1124 - accuracy: 0.5901 - val_loss: 0.9391 - val_accuracy: 0.6667\n",
            "Epoch 39/50\n",
            "60/60 [==============================] - 52s 873ms/step - loss: 1.0666 - accuracy: 0.6089 - val_loss: 0.9978 - val_accuracy: 0.6062\n",
            "Epoch 40/50\n",
            "60/60 [==============================] - 51s 858ms/step - loss: 1.0789 - accuracy: 0.5839 - val_loss: 0.8881 - val_accuracy: 0.7167\n",
            "Epoch 41/50\n",
            "60/60 [==============================] - 51s 855ms/step - loss: 1.0537 - accuracy: 0.6089 - val_loss: 0.9120 - val_accuracy: 0.7104\n",
            "Epoch 42/50\n",
            "60/60 [==============================] - 52s 870ms/step - loss: 1.0196 - accuracy: 0.6115 - val_loss: 0.8968 - val_accuracy: 0.6917\n",
            "Epoch 43/50\n",
            "60/60 [==============================] - 52s 874ms/step - loss: 1.0523 - accuracy: 0.6052 - val_loss: 0.9384 - val_accuracy: 0.6792\n",
            "Epoch 44/50\n",
            "60/60 [==============================] - 52s 869ms/step - loss: 1.0314 - accuracy: 0.6099 - val_loss: 0.9334 - val_accuracy: 0.6917\n",
            "Epoch 45/50\n",
            "60/60 [==============================] - 52s 858ms/step - loss: 1.0397 - accuracy: 0.6104 - val_loss: 0.9102 - val_accuracy: 0.6771\n",
            "Epoch 46/50\n",
            "60/60 [==============================] - 51s 857ms/step - loss: 0.9954 - accuracy: 0.6391 - val_loss: 1.0646 - val_accuracy: 0.5938\n",
            "Epoch 47/50\n",
            "60/60 [==============================] - 51s 854ms/step - loss: 1.0503 - accuracy: 0.6130 - val_loss: 0.8974 - val_accuracy: 0.6958\n",
            "Epoch 48/50\n",
            "60/60 [==============================] - 52s 867ms/step - loss: 1.0372 - accuracy: 0.6000 - val_loss: 0.8543 - val_accuracy: 0.7292\n",
            "Epoch 49/50\n",
            "60/60 [==============================] - 54s 897ms/step - loss: 1.0159 - accuracy: 0.6229 - val_loss: 0.7845 - val_accuracy: 0.7312\n",
            "Epoch 50/50\n",
            "60/60 [==============================] - 52s 873ms/step - loss: 0.9804 - accuracy: 0.6328 - val_loss: 0.8607 - val_accuracy: 0.7146\n",
            "15/15 [==============================] - 10s 697ms/step - loss: 0.8135 - accuracy: 0.7312\n",
            "Test accuracy: 0.731249988079071\n"
          ]
        }
      ],
      "source": [
        "images = np.array(image_df['image'].tolist())\n",
        "labels = np.array(image_df['hotcode'].tolist())\n",
        "\n",
        "train_images, train_labels = images[:320*6], labels[:320*6]\n",
        "valid_images, valid_labels = images[320*6:400*6], labels[320*6:400*6]\n",
        "test_images, test_labels = images[400*6:], labels[400*6:]\n",
        "\n",
        "# Define base VGG16 model\n",
        "base_model = VGG16(weights='imagenet', include_top=False, input_shape=(64, 64, 3))\n",
        "\n",
        "model = Sequential()\n",
        "model.add(base_model)\n",
        "model.add(GlobalAveragePooling2D())\n",
        "model.add(Dense(1024, activation='relu'))\n",
        "model.add(Dropout(0.5))\n",
        "model.add(Dense(7, activation='softmax'))\n",
        "\n",
        "# Freeze base model layers\n",
        "for layer in base_model.layers:\n",
        "    layer.trainable = False\n",
        "\n",
        "# Compile\n",
        "model.compile(optimizer='adam', loss='sparse_categorical_crossentropy', metrics=['accuracy'])\n",
        "\n",
        "# Create data generators and normalize it\n",
        "train_datagen = ImageDataGenerator(rescale=1./255, rotation_range=20, width_shift_range=0.2, height_shift_range=0.2, shear_range=0.2, zoom_range=0.2, horizontal_flip=True)\n",
        "valid_datagen = ImageDataGenerator(rescale=1./255)\n",
        "test_datagen = ImageDataGenerator(rescale=1./255)\n",
        "\n",
        "train_generator = train_datagen.flow(train_images, train_labels, batch_size=32)\n",
        "valid_generator = valid_datagen.flow(valid_images, valid_labels, batch_size=32)\n",
        "test_generator = test_datagen.flow(test_images, test_labels, batch_size=32, shuffle=False)\n",
        "\n",
        "# Train the model\n",
        "history = model.fit(train_generator,steps_per_epoch=len(train_generator), epochs=50, validation_data=valid_generator)\n",
        "\n",
        "# Evaluate the model on the test set\n",
        "test_loss, test_acc = model.evaluate(test_generator, steps=len(test_generator))\n",
        "print('Test accuracy:', test_acc)"
      ]
    },
    {
      "cell_type": "code",
      "execution_count": null,
      "metadata": {
        "colab": {
          "base_uri": "https://localhost:8080/",
          "height": 452
        },
        "id": "t8eoC3Q4PuBp",
        "outputId": "54e6a3b4-d10f-4f78-b723-4f5d3e9a3e44"
      },
      "outputs": [
        {
          "data": {
            "image/png": "[encoded data removed]",
            "text/plain": [
              "<Figure size 640x480 with 2 Axes>"
            ]
          },
          "metadata": {},
          "output_type": "display_data"
        }
      ],
      "source": [
        "from matplotlib import pyplot\n",
        " \n",
        "# plot loss during training\n",
        "pyplot.subplot(211)\n",
        "pyplot.title('Loss')\n",
        "pyplot.plot(history.history['loss'], label='train')\n",
        "pyplot.plot(history.history['val_loss'], label='validation')\n",
        "pyplot.legend()\n",
        "# plot accuracy during training\n",
        "pyplot.subplot(212)\n",
        "pyplot.title('Accuracy')\n",
        "pyplot.plot(history.history['accuracy'], label='train')\n",
        "pyplot.plot(history.history['val_accuracy'], label='validation')\n",
        "pyplot.legend()\n",
        "pyplot.show()"
      ]
    },
    {
      "cell_type": "code",
      "execution_count": null,
      "metadata": {
        "id": "trzhhQcBQaev"
      },
      "outputs": [],
      "source": [
        "# predict probabilities for test set\n",
        "yhat_probs = model.predict(test_datagen.flow(test_images, test_labels, batch_size=32, shuffle=False), steps=len(test_generator), verbose=0)\n",
        "# predict crisp classes for test set\n",
        "classes_x=np.argmax(yhat_probs,axis=1)"
      ]
    },
    {
      "cell_type": "code",
      "execution_count": null,
      "metadata": {
        "colab": {
          "base_uri": "https://localhost:8080/",
          "height": 555
        },
        "id": "HjqkIGbbRRtC",
        "outputId": "ef50b361-a6db-4aed-81d6-55beefbcee48"
      },
      "outputs": [
        {
          "data": {
            "text/plain": [
              "[Text(0, 0.5, 'Anger'),\n",
              " Text(0, 1.5, 'Neutral'),\n",
              " Text(0, 2.5, 'Surprise'),\n",
              " Text(0, 3.5, 'Sad'),\n",
              " Text(0, 4.5, 'Disgust'),\n",
              " Text(0, 5.5, 'Happy'),\n",
              " Text(0, 6.5, 'Fear')]"
            ]
          },
          "execution_count": 62,
          "metadata": {},
          "output_type": "execute_result"
        },
        {
          "data": {
            "image/png": "[encoded data removed]",
            "text/plain": [
              "<Figure size 640x480 with 2 Axes>"
            ]
          },
          "metadata": {},
          "output_type": "display_data"
        }
      ],
      "source": [
        "ax= plt.subplot()\n",
        "cm = confusion_matrix(test_labels, classes_x,)\n",
        "sns.heatmap(cm, annot=True, cmap='Blues', ax= ax)\n",
        "ax.xaxis.set_ticklabels(['Anger', 'Neutral','Surprise','Sad', 'Disgust', 'Happy', 'Fear'])\n",
        "ax.yaxis.set_ticklabels(['Anger', 'Neutral','Surprise','Sad', 'Disgust', 'Happy', 'Fear'])"
      ]
    },
    {
      "cell_type": "code",
      "execution_count": null,
      "metadata": {
        "colab": {
          "base_uri": "https://localhost:8080/"
        },
        "id": "6EfeFgH9Qu81",
        "outputId": "f21403ab-0ae4-4080-a4fa-9ed6a630eb97"
      },
      "outputs": [
        {
          "name": "stdout",
          "output_type": "stream",
          "text": [
            "Accuracy: 0.731250\n",
            "Precision: 0.772944\n",
            "Recall: 0.731250\n",
            "F1 score: 0.735262\n"
          ]
        }
      ],
      "source": [
        "accuracy = accuracy_score(test_labels, classes_x)\n",
        "print('Accuracy: %f' % accuracy)\n",
        "precision = precision_score(test_labels, classes_x,average='weighted')\n",
        "print('Precision: %f' % precision)\n",
        "recall = recall_score(test_labels, classes_x,average='weighted')\n",
        "print('Recall: %f' % recall)\n",
        "f1 = f1_score(test_labels, classes_x,average='weighted')\n",
        "print('F1 score: %f' % f1)"
      ]
    },
    {
      "cell_type": "code",
      "execution_count": null,
      "metadata": {
        "id": "SkQ8K8sq2kpl"
      },
      "outputs": [],
      "source": [
        "model.save('/content/drive/MyDrive/W207-Spring-2023/W207 project/TransferLearningModels/vgg16_transfer_model_50epo.h5')"
      ]
    },
    {
      "cell_type": "markdown",
      "metadata": {
        "id": "lP4ONGGh76_g"
      },
      "source": [
        "#Audio Model"
      ]
    },
    {
      "cell_type": "code",
      "execution_count": null,
      "metadata": {
        "id": "iwlMfvxP8Gtu"
      },
      "outputs": [],
      "source": [
        "#bucket = client.get_bucket('savee')\n",
        "#blob = bucket.blob('raw_audio_features_extraction_0324.csv')\n",
        "#blob.download_to_filename('raw_audio_features_extraction_0324.csv')\n",
        "audio_dir = '/content/drive/MyDrive/W207 project/data/raw_audio_features_extraction_0324.npy'\n",
        "audio_arr = np.load(audio_dir, allow_pickle=True)"
      ]
    },
    {
      "cell_type": "code",
      "execution_count": null,
      "metadata": {
        "id": "SObKJd0MSgpM"
      },
      "outputs": [],
      "source": [
        "audio_csv_dir = '/content/drive/MyDrive/W207 project/data/raw_audio_features_extraction_0324.csv'\n",
        "headers = pd.read_csv(audio_csv_dir , index_col=0, nrows=0).columns.tolist()"
      ]
    },
    {
      "cell_type": "code",
      "execution_count": null,
      "metadata": {
        "colab": {
          "base_uri": "https://localhost:8080/",
          "height": 112
        },
        "id": "h39rs5AUAmLN",
        "outputId": "1da54472-1971-4c83-fa3c-43325959e373"
      },
      "outputs": [
        {
          "output_type": "execute_result",
          "data": {
            "text/plain": [
              "                                                data                  path  \\\n",
              "0  [0.035011273, 0.052110124, 0.0455472, 0.049692...  AudioData/DC/a01.wav   \n",
              "1  [0.028584875, 0.043024283, 0.038623992, 0.0423...  AudioData/DC/a02.wav   \n",
              "\n",
              "  speaker augmented                                               mfcc label  \\\n",
              "0      DC     False  [[-219.52531, -193.17221, -200.38965, -219.389...     a   \n",
              "1      DC     False  [[-267.86603, -136.18143, -103.85412, -143.051...     a   \n",
              "\n",
              "   emo_label  fold  \n",
              "0          0     0  \n",
              "1          0     0  "
            ],
            "text/html": [
              "\n",
              "  <div id=\"df-d9f289db-499c-4bcf-9ffe-31017497b062\">\n",
              "    <div class=\"colab-df-container\">\n",
              "      <div>\n",
              "<style scoped>\n",
              "    .dataframe tbody tr th:only-of-type {\n",
              "        vertical-align: middle;\n",
              "    }\n",
              "\n",
              "    .dataframe tbody tr th {\n",
              "        vertical-align: top;\n",
              "    }\n",
              "\n",
              "    .dataframe thead th {\n",
              "        text-align: right;\n",
              "    }\n",
              "</style>\n",
              "<table border=\"1\" class=\"dataframe\">\n",
              "  <thead>\n",
              "    <tr style=\"text-align: right;\">\n",
              "      <th></th>\n",
              "      <th>data</th>\n",
              "      <th>path</th>\n",
              "      <th>speaker</th>\n",
              "      <th>augmented</th>\n",
              "      <th>mfcc</th>\n",
              "      <th>label</th>\n",
              "      <th>emo_label</th>\n",
              "      <th>fold</th>\n",
              "    </tr>\n",
              "  </thead>\n",
              "  <tbody>\n",
              "    <tr>\n",
              "      <th>0</th>\n",
              "      <td>[0.035011273, 0.052110124, 0.0455472, 0.049692...</td>\n",
              "      <td>AudioData/DC/a01.wav</td>\n",
              "      <td>DC</td>\n",
              "      <td>False</td>\n",
              "      <td>[[-219.52531, -193.17221, -200.38965, -219.389...</td>\n",
              "      <td>a</td>\n",
              "      <td>0</td>\n",
              "      <td>0</td>\n",
              "    </tr>\n",
              "    <tr>\n",
              "      <th>1</th>\n",
              "      <td>[0.028584875, 0.043024283, 0.038623992, 0.0423...</td>\n",
              "      <td>AudioData/DC/a02.wav</td>\n",
              "      <td>DC</td>\n",
              "      <td>False</td>\n",
              "      <td>[[-267.86603, -136.18143, -103.85412, -143.051...</td>\n",
              "      <td>a</td>\n",
              "      <td>0</td>\n",
              "      <td>0</td>\n",
              "    </tr>\n",
              "  </tbody>\n",
              "</table>\n",
              "</div>\n",
              "      <button class=\"colab-df-convert\" onclick=\"convertToInteractive('df-d9f289db-499c-4bcf-9ffe-31017497b062')\"\n",
              "              title=\"Convert this dataframe to an interactive table.\"\n",
              "              style=\"display:none;\">\n",
              "        \n",
              "  <svg xmlns=\"http://www.w3.org/2000/svg\" height=\"24px\"viewBox=\"0 0 24 24\"\n",
              "       width=\"24px\">\n",
              "    <path d=\"M0 0h24v24H0V0z\" fill=\"none\"/>\n",
              "    <path d=\"M18.56 5.44l.94 2.06.94-2.06 2.06-.94-2.06-.94-.94-2.06-.94 2.06-2.06.94zm-11 1L8.5 8.5l.94-2.06 2.06-.94-2.06-.94L8.5 2.5l-.94 2.06-2.06.94zm10 10l.94 2.06.94-2.06 2.06-.94-2.06-.94-.94-2.06-.94 2.06-2.06.94z\"/><path d=\"M17.41 7.96l-1.37-1.37c-.4-.4-.92-.59-1.43-.59-.52 0-1.04.2-1.43.59L10.3 9.45l-7.72 7.72c-.78.78-.78 2.05 0 2.83L4 21.41c.39.39.9.59 1.41.59.51 0 1.02-.2 1.41-.59l7.78-7.78 2.81-2.81c.8-.78.8-2.07 0-2.86zM5.41 20L4 18.59l7.72-7.72 1.47 1.35L5.41 20z\"/>\n",
              "  </svg>\n",
              "      </button>\n",
              "      \n",
              "  <style>\n",
              "    .colab-df-container {\n",
              "      display:flex;\n",
              "      flex-wrap:wrap;\n",
              "      gap: 12px;\n",
              "    }\n",
              "\n",
              "    .colab-df-convert {\n",
              "      background-color: #E8F0FE;\n",
              "      border: none;\n",
              "      border-radius: 50%;\n",
              "      cursor: pointer;\n",
              "      display: none;\n",
              "      fill: #1967D2;\n",
              "      height: 32px;\n",
              "      padding: 0 0 0 0;\n",
              "      width: 32px;\n",
              "    }\n",
              "\n",
              "    .colab-df-convert:hover {\n",
              "      background-color: #E2EBFA;\n",
              "      box-shadow: 0px 1px 2px rgba(60, 64, 67, 0.3), 0px 1px 3px 1px rgba(60, 64, 67, 0.15);\n",
              "      fill: #174EA6;\n",
              "    }\n",
              "\n",
              "    [theme=dark] .colab-df-convert {\n",
              "      background-color: #3B4455;\n",
              "      fill: #D2E3FC;\n",
              "    }\n",
              "\n",
              "    [theme=dark] .colab-df-convert:hover {\n",
              "      background-color: #434B5C;\n",
              "      box-shadow: 0px 1px 3px 1px rgba(0, 0, 0, 0.15);\n",
              "      filter: drop-shadow(0px 1px 2px rgba(0, 0, 0, 0.3));\n",
              "      fill: #FFFFFF;\n",
              "    }\n",
              "  </style>\n",
              "\n",
              "      <script>\n",
              "        const buttonEl =\n",
              "          document.querySelector('#df-d9f289db-499c-4bcf-9ffe-31017497b062 button.colab-df-convert');\n",
              "        buttonEl.style.display =\n",
              "          google.colab.kernel.accessAllowed ? 'block' : 'none';\n",
              "\n",
              "        async function convertToInteractive(key) {\n",
              "          const element = document.querySelector('#df-d9f289db-499c-4bcf-9ffe-31017497b062');\n",
              "          const dataTable =\n",
              "            await google.colab.kernel.invokeFunction('convertToInteractive',\n",
              "                                                     [key], {});\n",
              "          if (!dataTable) return;\n",
              "\n",
              "          const docLinkHtml = 'Like what you see? Visit the ' +\n",
              "            '<a target=\"_blank\" href=https://colab.research.google.com/notebooks/data_table.ipynb>data table notebook</a>'\n",
              "            + ' to learn more about interactive tables.';\n",
              "          element.innerHTML = '';\n",
              "          dataTable['output_type'] = 'display_data';\n",
              "          await google.colab.output.renderOutput(dataTable, element);\n",
              "          const docLink = document.createElement('div');\n",
              "          docLink.innerHTML = docLinkHtml;\n",
              "          element.appendChild(docLink);\n",
              "        }\n",
              "      </script>\n",
              "    </div>\n",
              "  </div>\n",
              "  "
            ]
          },
          "metadata": {},
          "execution_count": 31
        }
      ],
      "source": [
        "audio_df = pd.DataFrame(audio_arr, columns=['data']+headers)\n",
        "audio_df = audio_df[['data', 'path', 'speaker', 'augmented', 'mfcc']]\n",
        "audio_df['label'] = [x.split('/')[2][:-6] for x in audio_df.path]\n",
        "audio_df['emo_label'] = pd.factorize(audio_df['label'])[0]\n",
        "audio_df['fold'] = pd.factorize(audio_df['speaker'])[0]\n",
        "audio_df.head(2)"
      ]
    },
    {
      "cell_type": "code",
      "execution_count": null,
      "metadata": {
        "colab": {
          "background_save": true
        },
        "id": "_OChivklUF6C",
        "outputId": "c25ba9ed-89e6-48b9-eb78-76c189a4db79"
      },
      "outputs": [
        {
          "data": {
            "image/png": "[encoded data removed]",
            "text/plain": [
              "<Figure size 640x480 with 1 Axes>"
            ]
          },
          "metadata": {},
          "output_type": "display_data"
        }
      ],
      "source": [
        "audio_csv_dir = '/content/drive/MyDrive/W207 project/data/image/'\n",
        "ind = 0\n",
        "for img in audio_df.mfcc:\n",
        "  librosa.display.specshow(img)\n",
        "  plt.savefig(audio_csv_dir + str(ind) + '.png')\n",
        "  ind += 1"
      ]
    },
    {
      "cell_type": "code",
      "execution_count": null,
      "metadata": {
        "id": "ywpht8RVUI6x"
      },
      "outputs": [],
      "source": [
        "import glob\n",
        "files = glob.glob('/content/drive/MyDrive/W207 project/data/image/*.*')\n",
        "data = []\n",
        "index_order = []\n",
        "for i in files:   \n",
        "    ind = int(str(i).split('/')[-1].split('.')[0])\n",
        "    image=tf.keras.preprocessing.image.load_img(i, color_mode='rgb', target_size= (224,224))\n",
        "    image=np.array(image)\n",
        "    data.append(image)\n",
        "    index_order.append(ind)\n",
        "\n",
        "data = [data[i] for i in index_order]"
      ]
    },
    {
      "cell_type": "code",
      "source": [
        "#deal with dataset imbalance\n",
        "data_neu = audio_df[audio_df.emo_label==4]\n",
        "data_oth = audio_df[audio_df.emo_label!=4]\n",
        "data_new_resize = data_neu.sample(frac=0.5)\n",
        "index_list = list(data_oth.index) + list(data_new_resize.index)\n",
        "data_final = [data[i] for i in index_list]\n",
        "label_final = [audio_df.emo_label[i] for i in index_list]"
      ],
      "metadata": {
        "id": "2egjVsfUz2Ud"
      },
      "execution_count": null,
      "outputs": []
    },
    {
      "cell_type": "code",
      "execution_count": null,
      "metadata": {
        "colab": {
          "base_uri": "https://localhost:8080/"
        },
        "id": "lLI8Oy-aYWZ0",
        "outputId": "5ba5d797-13af-46cf-dc44-9f5ffb2bce2a"
      },
      "outputs": [
        {
          "output_type": "stream",
          "name": "stdout",
          "text": [
            "Epoch 1/50\n",
            "37/37 [==============================] - 536s 14s/step - loss: 3.2988 - accuracy: 0.1838 - val_loss: 1.9126 - val_accuracy: 0.1937\n",
            "Epoch 2/50\n",
            "37/37 [==============================] - 532s 14s/step - loss: 1.9572 - accuracy: 0.1974 - val_loss: 1.8930 - val_accuracy: 0.2095\n",
            "Epoch 3/50\n",
            "37/37 [==============================] - 528s 14s/step - loss: 1.9003 - accuracy: 0.2017 - val_loss: 1.8516 - val_accuracy: 0.2767\n",
            "Epoch 4/50\n",
            "37/37 [==============================] - 526s 14s/step - loss: 1.8508 - accuracy: 0.2332 - val_loss: 1.8030 - val_accuracy: 0.2530\n",
            "Epoch 5/50\n",
            "37/37 [==============================] - 577s 16s/step - loss: 1.8297 - accuracy: 0.2366 - val_loss: 1.7241 - val_accuracy: 0.3083\n",
            "Epoch 6/50\n",
            "37/37 [==============================] - 520s 14s/step - loss: 1.8143 - accuracy: 0.1991 - val_loss: 1.8121 - val_accuracy: 0.2411\n",
            "Epoch 7/50\n",
            "37/37 [==============================] - 522s 14s/step - loss: 1.7453 - accuracy: 0.2562 - val_loss: 1.7010 - val_accuracy: 0.2727\n",
            "Epoch 8/50\n",
            "37/37 [==============================] - 520s 14s/step - loss: 1.7339 - accuracy: 0.2536 - val_loss: 1.6747 - val_accuracy: 0.3162\n",
            "Epoch 9/50\n",
            "37/37 [==============================] - 521s 14s/step - loss: 1.7090 - accuracy: 0.2477 - val_loss: 1.7531 - val_accuracy: 0.2846\n",
            "Epoch 10/50\n",
            "37/37 [==============================] - 519s 14s/step - loss: 1.7227 - accuracy: 0.2485 - val_loss: 1.6410 - val_accuracy: 0.2806\n",
            "Epoch 11/50\n",
            "37/37 [==============================] - 524s 14s/step - loss: 1.7478 - accuracy: 0.2468 - val_loss: 1.7569 - val_accuracy: 0.2530\n",
            "Epoch 12/50\n",
            "37/37 [==============================] - 519s 14s/step - loss: 1.7171 - accuracy: 0.2494 - val_loss: 1.5744 - val_accuracy: 0.3281\n",
            "Epoch 13/50\n",
            "37/37 [==============================] - 521s 14s/step - loss: 1.6574 - accuracy: 0.2894 - val_loss: 1.6616 - val_accuracy: 0.2767\n",
            "Epoch 14/50\n",
            "37/37 [==============================] - 521s 14s/step - loss: 1.6703 - accuracy: 0.2621 - val_loss: 1.5242 - val_accuracy: 0.3557\n",
            "Epoch 15/50\n",
            "37/37 [==============================] - 529s 14s/step - loss: 1.6761 - accuracy: 0.2630 - val_loss: 1.6452 - val_accuracy: 0.3043\n",
            "Epoch 16/50\n",
            "37/37 [==============================] - 522s 14s/step - loss: 1.7109 - accuracy: 0.2443 - val_loss: 1.5780 - val_accuracy: 0.3557\n",
            "Epoch 17/50\n",
            "37/37 [==============================] - 523s 14s/step - loss: 1.7114 - accuracy: 0.2179 - val_loss: 1.6585 - val_accuracy: 0.2925\n",
            "Epoch 18/50\n",
            "37/37 [==============================] - 572s 16s/step - loss: 1.6990 - accuracy: 0.2409 - val_loss: 1.6727 - val_accuracy: 0.3004\n",
            "Epoch 19/50\n",
            "37/37 [==============================] - 521s 14s/step - loss: 1.7065 - accuracy: 0.2357 - val_loss: 1.6066 - val_accuracy: 0.3083\n",
            "Epoch 20/50\n",
            "37/37 [==============================] - 519s 14s/step - loss: 1.7237 - accuracy: 0.2289 - val_loss: 1.5857 - val_accuracy: 0.3360\n",
            "Epoch 21/50\n",
            "37/37 [==============================] - 522s 14s/step - loss: 1.6549 - accuracy: 0.2519 - val_loss: 1.5616 - val_accuracy: 0.3360\n",
            "Epoch 22/50\n",
            "37/37 [==============================] - 513s 14s/step - loss: 1.6934 - accuracy: 0.2477 - val_loss: 1.5430 - val_accuracy: 0.3953\n",
            "Epoch 23/50\n",
            "37/37 [==============================] - 514s 14s/step - loss: 1.6502 - accuracy: 0.2672 - val_loss: 1.5892 - val_accuracy: 0.3241\n",
            "Epoch 24/50\n",
            "37/37 [==============================] - 560s 15s/step - loss: 1.6416 - accuracy: 0.2902 - val_loss: 1.5354 - val_accuracy: 0.4032\n",
            "8/8 [==============================] - 90s 11s/step - loss: 1.5548 - accuracy: 0.2897\n",
            "Test accuracy: 0.289682537317276\n"
          ]
        }
      ],
      "source": [
        "from keras.applications import VGG19\n",
        "from keras.callbacks import EarlyStopping, ModelCheckpoint\n",
        "from sklearn.model_selection import train_test_split\n",
        "from sklearn.preprocessing import MinMaxScaler\n",
        "\n",
        "X = np.array(data_final)\n",
        "y = pd.Series(label_final)\n",
        "\n",
        "# Split data into train, validation, and test sets\n",
        "train_ratio = 0.7\n",
        "val_ratio = 0.15\n",
        "test_ratio = 0.15\n",
        "\n",
        "X_train, X_test, y_train, y_test = train_test_split(X, y, test_size=test_ratio, random_state=1)\n",
        "X_train, X_val, y_train, y_val = train_test_split(X_train, y_train, test_size=val_ratio/(train_ratio+val_ratio), random_state=1)\n",
        "X_train = X_train.astype('float32')/255.0\n",
        "X_val = X_val.astype('float32')/255.0\n",
        "X_test = X_test.astype('float32')/255.0\n",
        "\n",
        "# Load VGG19\n",
        "vgg = VGG19(include_top=False, input_shape=(224, 224,3), weights='imagenet')\n",
        "for layer in vgg.layers:\n",
        "    layer.trainable = False\n",
        "\n",
        "# build model\n",
        "model = Sequential()\n",
        "model.add(vgg)\n",
        "model.add(Flatten())\n",
        "model.add(Dense(1024, activation='relu'))\n",
        "model.add(Dropout(0.5))\n",
        "model.add(Dense(256, activation='relu'))\n",
        "model.add(Dense(7, activation='softmax'))\n",
        "\n",
        "# Compile\n",
        "model.compile(loss='sparse_categorical_crossentropy', optimizer='adam', metrics=['accuracy'])\n",
        "\n",
        "# train and save the best epoch\n",
        "STAMP = 'simple_transfer_vgg19'\n",
        "early_stopping =EarlyStopping(monitor='val_loss', patience=10)\n",
        "bst_model_path = STAMP + '.h5'\n",
        "model_checkpoint = ModelCheckpoint(bst_model_path, save_best_only=True, save_weights_only=True)\n",
        "\n",
        "history = model.fit(X_train, y_train, \n",
        "                    validation_data=(X_val, y_val), \n",
        "                    epochs=50, \n",
        "                    callbacks=[early_stopping, model_checkpoint])\n",
        "model.load_weights(bst_model_path)\n",
        "# evaluate\n",
        "test_loss, test_acc = model.evaluate(X_test, y_test)\n",
        "print('Test accuracy:', test_acc)"
      ]
    },
    {
      "cell_type": "code",
      "source": [
        "from matplotlib import pyplot\n",
        " \n",
        "# plot loss during training\n",
        "pyplot.subplot(211)\n",
        "pyplot.title('Loss')\n",
        "pyplot.plot(history.history['loss'], label='train')\n",
        "pyplot.plot(history.history['val_loss'], label='validation')\n",
        "pyplot.legend()\n",
        "# plot accuracy during training\n",
        "pyplot.subplot(212)\n",
        "pyplot.title('Accuracy')\n",
        "pyplot.plot(history.history['accuracy'], label='train')\n",
        "pyplot.plot(history.history['val_accuracy'], label='validation')\n",
        "pyplot.legend()\n",
        "pyplot.show()"
      ],
      "metadata": {
        "colab": {
          "base_uri": "https://localhost:8080/",
          "height": 478
        },
        "id": "V1MNBrndMUli",
        "outputId": "eb43c644-6a96-4acc-f97b-35a2635b0af4"
      },
      "execution_count": null,
      "outputs": [
        {
          "output_type": "error",
          "ename": "NameError",
          "evalue": "ignored",
          "traceback": [
            "\u001b[0;31m---------------------------------------------------------------------------\u001b[0m",
            "\u001b[0;31mNameError\u001b[0m                                 Traceback (most recent call last)",
            "\u001b[0;32m<ipython-input-1-8fbc85b8427c>\u001b[0m in \u001b[0;36m<cell line: 6>\u001b[0;34m()\u001b[0m\n\u001b[1;32m      4\u001b[0m \u001b[0mpyplot\u001b[0m\u001b[0;34m.\u001b[0m\u001b[0msubplot\u001b[0m\u001b[0;34m(\u001b[0m\u001b[0;36m211\u001b[0m\u001b[0;34m)\u001b[0m\u001b[0;34m\u001b[0m\u001b[0;34m\u001b[0m\u001b[0m\n\u001b[1;32m      5\u001b[0m \u001b[0mpyplot\u001b[0m\u001b[0;34m.\u001b[0m\u001b[0mtitle\u001b[0m\u001b[0;34m(\u001b[0m\u001b[0;34m'Loss'\u001b[0m\u001b[0;34m)\u001b[0m\u001b[0;34m\u001b[0m\u001b[0;34m\u001b[0m\u001b[0m\n\u001b[0;32m----> 6\u001b[0;31m \u001b[0mpyplot\u001b[0m\u001b[0;34m.\u001b[0m\u001b[0mplot\u001b[0m\u001b[0;34m(\u001b[0m\u001b[0mhistory\u001b[0m\u001b[0;34m.\u001b[0m\u001b[0mhistory\u001b[0m\u001b[0;34m[\u001b[0m\u001b[0;34m'loss'\u001b[0m\u001b[0;34m]\u001b[0m\u001b[0;34m,\u001b[0m \u001b[0mlabel\u001b[0m\u001b[0;34m=\u001b[0m\u001b[0;34m'train'\u001b[0m\u001b[0;34m)\u001b[0m\u001b[0;34m\u001b[0m\u001b[0;34m\u001b[0m\u001b[0m\n\u001b[0m\u001b[1;32m      7\u001b[0m \u001b[0mpyplot\u001b[0m\u001b[0;34m.\u001b[0m\u001b[0mplot\u001b[0m\u001b[0;34m(\u001b[0m\u001b[0mhistory\u001b[0m\u001b[0;34m.\u001b[0m\u001b[0mhistory\u001b[0m\u001b[0;34m[\u001b[0m\u001b[0;34m'val_loss'\u001b[0m\u001b[0;34m]\u001b[0m\u001b[0;34m,\u001b[0m \u001b[0mlabel\u001b[0m\u001b[0;34m=\u001b[0m\u001b[0;34m'validation'\u001b[0m\u001b[0;34m)\u001b[0m\u001b[0;34m\u001b[0m\u001b[0;34m\u001b[0m\u001b[0m\n\u001b[1;32m      8\u001b[0m \u001b[0mpyplot\u001b[0m\u001b[0;34m.\u001b[0m\u001b[0mlegend\u001b[0m\u001b[0;34m(\u001b[0m\u001b[0;34m)\u001b[0m\u001b[0;34m\u001b[0m\u001b[0;34m\u001b[0m\u001b[0m\n",
            "\u001b[0;31mNameError\u001b[0m: name 'history' is not defined"
          ]
        },
        {
          "output_type": "display_data",
          "data": {
            "text/plain": [
              "<Figure size 640x480 with 1 Axes>"
            ],
            "image/png": "[encoded data removed]"
          },
          "metadata": {}
        }
      ]
    },
    {
      "cell_type": "code",
      "source": [
        "# predict probabilities for test set\n",
        "yhat_probs = model.predict(X_test)\n",
        "# predict crisp classes for test set\n",
        "classes_x=np.argmax(yhat_probs,axis=1)\n",
        "\n",
        "ax= plt.subplot()\n",
        "cm = confusion_matrix(y_test, classes_x,)\n",
        "sns.heatmap(cm, annot=True, cmap='Blues', ax= ax)\n",
        "ax.xaxis.set_ticklabels(['Anger', 'Neutral','Surprise','Sad', 'Disgust', 'Happy', 'Fear'])\n",
        "ax.yaxis.set_ticklabels(['Anger', 'Neutral','Surprise','Sad', 'Disgust', 'Happy', 'Fear'])"
      ],
      "metadata": {
        "id": "AYgA_81ql1QG"
      },
      "execution_count": null,
      "outputs": []
    },
    {
      "cell_type": "code",
      "source": [
        "accuracy = accuracy_score(y_test, classes_x)\n",
        "print('Accuracy: %f' % accuracy)\n",
        "precision = precision_score(y_test, classes_x,average='weighted')\n",
        "print('Precision: %f' % precision)\n",
        "recall = recall_score(y_test, classes_x,average='weighted')\n",
        "print('Recall: %f' % recall)\n",
        "f1 = f1_score(y_test, classes_x,average='weighted')\n",
        "print('F1 score: %f' % f1)"
      ],
      "metadata": {
        "id": "4RFk6agtmLlt"
      },
      "execution_count": null,
      "outputs": []
    },
    {
      "cell_type": "markdown",
      "source": [
        "## YAMNet  \n",
        "\n",
        "Code heavily referenced from: https://www.tensorflow.org/tutorials/audio/transfer_learning_audio "
      ],
      "metadata": {
        "id": "sopuiJ1WmMGr"
      }
    },
    {
      "cell_type": "code",
      "source": [
        "data_neu = audio_df[audio_df.emo_label==4]\n",
        "data_oth = audio_df[audio_df.emo_label!=4]\n",
        "data_new_resize = data_neu.sample(frac=0.5)\n",
        "index_list = list(data_oth.index) + list(data_new_resize.index)"
      ],
      "metadata": {
        "id": "IFlm4NMW95x_"
      },
      "execution_count": null,
      "outputs": []
    },
    {
      "cell_type": "code",
      "execution_count": null,
      "metadata": {
        "id": "5pwnal2BKwkt"
      },
      "outputs": [],
      "source": [
        "import tensorflow_hub as hub\n",
        "from sklearn.model_selection import train_test_split\n",
        "from sklearn.metrics import accuracy_score\n",
        "from keras.layers import Input, Dense, Dropout\n",
        "from keras.models import Model\n",
        "#import tensorflow_io as tfio\n",
        "\n",
        "# Load YAMNet model\n",
        "yamnet_model_handle = 'https://tfhub.dev/google/yamnet/1'\n",
        "yamnet_model = hub.load(yamnet_model_handle)"
      ]
    },
    {
      "cell_type": "code",
      "execution_count": null,
      "metadata": {
        "id": "HM3j2ENJTRBb"
      },
      "outputs": [],
      "source": [
        "audio_yam_df = audio_df[audio_df.index.isin(index_list)]"
      ]
    },
    {
      "cell_type": "code",
      "source": [
        "class_map_path = yamnet_model.class_map_path().numpy().decode('utf-8')\n",
        "class_names =list(pd.read_csv(class_map_path)['display_name'])\n",
        "scores, embeddings, spectrogram = yamnet_model(audio_yam_df.data[0])\n",
        "class_scores = tf.reduce_mean(scores, axis=0)\n",
        "top_class = tf.math.argmax(class_scores)\n",
        "inferred_class = class_names[top_class]\n",
        "\n",
        "print(f'The main sound is: {inferred_class}')\n",
        "print(f'The embeddings shape: {embeddings.shape}')"
      ],
      "metadata": {
        "colab": {
          "base_uri": "https://localhost:8080/"
        },
        "id": "PnKN1mZDBmQq",
        "outputId": "210fb996-7b1f-41eb-80e3-160399f86509"
      },
      "execution_count": null,
      "outputs": [
        {
          "output_type": "stream",
          "name": "stdout",
          "text": [
            "The main sound is: Speech\n",
            "The embeddings shape: (10, 1024)\n"
          ]
        }
      ]
    },
    {
      "cell_type": "code",
      "execution_count": null,
      "metadata": {
        "colab": {
          "base_uri": "https://localhost:8080/"
        },
        "id": "UZca7rztdBzk",
        "outputId": "49acfe75-33be-461e-c0f2-3f758881eaf0"
      },
      "outputs": [
        {
          "output_type": "stream",
          "name": "stdout",
          "text": [
            "(TensorSpec(shape=(1024,), dtype=tf.float32, name=None), TensorSpec(shape=(), dtype=tf.int64, name=None), TensorSpec(shape=(), dtype=tf.float32, name=None))\n",
            "Epoch 1/20\n",
            "720/720 [==============================] - 199s 268ms/step - loss: 1.9670 - accuracy: 0.2481 - val_loss: 1.9829 - val_accuracy: 0.2438\n",
            "Epoch 2/20\n",
            "720/720 [==============================] - 5s 7ms/step - loss: 1.8860 - accuracy: 0.2622 - val_loss: 1.9744 - val_accuracy: 0.2448\n",
            "Epoch 3/20\n",
            "720/720 [==============================] - 5s 7ms/step - loss: 1.8819 - accuracy: 0.2608 - val_loss: 1.9542 - val_accuracy: 0.2448\n",
            "Epoch 4/20\n",
            "720/720 [==============================] - 5s 7ms/step - loss: 1.8804 - accuracy: 0.2624 - val_loss: 1.9702 - val_accuracy: 0.2449\n",
            "Epoch 5/20\n",
            "720/720 [==============================] - 5s 7ms/step - loss: 1.8752 - accuracy: 0.2628 - val_loss: 1.9621 - val_accuracy: 0.2432\n",
            "Epoch 6/20\n",
            "720/720 [==============================] - 5s 7ms/step - loss: 1.8735 - accuracy: 0.2611 - val_loss: 1.9828 - val_accuracy: 0.2444\n",
            "Epoch 7/20\n",
            "720/720 [==============================] - 5s 7ms/step - loss: 1.8726 - accuracy: 0.2623 - val_loss: 1.9712 - val_accuracy: 0.2426\n",
            "Epoch 8/20\n",
            "720/720 [==============================] - 5s 7ms/step - loss: 1.8688 - accuracy: 0.2645 - val_loss: 1.9637 - val_accuracy: 0.2432\n",
            "Epoch 9/20\n",
            "720/720 [==============================] - 5s 7ms/step - loss: 1.8673 - accuracy: 0.2635 - val_loss: 1.9894 - val_accuracy: 0.2430\n",
            "Epoch 10/20\n",
            "720/720 [==============================] - 5s 7ms/step - loss: 1.8629 - accuracy: 0.2685 - val_loss: 1.9761 - val_accuracy: 0.2404\n",
            "Epoch 11/20\n",
            "720/720 [==============================] - 5s 7ms/step - loss: 1.8608 - accuracy: 0.2665 - val_loss: 1.9773 - val_accuracy: 0.2396\n",
            "Epoch 12/20\n",
            "720/720 [==============================] - 5s 7ms/step - loss: 1.8590 - accuracy: 0.2690 - val_loss: 1.9690 - val_accuracy: 0.2404\n",
            "Epoch 13/20\n",
            "720/720 [==============================] - 5s 7ms/step - loss: 1.8560 - accuracy: 0.2694 - val_loss: 1.9669 - val_accuracy: 0.2413\n",
            "Epoch 14/20\n",
            "720/720 [==============================] - 5s 6ms/step - loss: 1.8543 - accuracy: 0.2683 - val_loss: 1.9795 - val_accuracy: 0.2395\n",
            "Epoch 15/20\n",
            "720/720 [==============================] - 5s 7ms/step - loss: 1.8492 - accuracy: 0.2719 - val_loss: 1.9855 - val_accuracy: 0.2398\n",
            "Epoch 16/20\n",
            "720/720 [==============================] - 5s 7ms/step - loss: 1.8445 - accuracy: 0.2757 - val_loss: 1.9876 - val_accuracy: 0.2393\n",
            "Epoch 17/20\n",
            "720/720 [==============================] - 5s 6ms/step - loss: 1.8417 - accuracy: 0.2757 - val_loss: 2.0800 - val_accuracy: 0.2385\n",
            "Epoch 18/20\n",
            "720/720 [==============================] - 5s 7ms/step - loss: 1.8410 - accuracy: 0.2766 - val_loss: 2.0084 - val_accuracy: 0.2358\n",
            "Epoch 19/20\n",
            "720/720 [==============================] - 5s 7ms/step - loss: 1.8347 - accuracy: 0.2802 - val_loss: 1.9881 - val_accuracy: 0.2388\n",
            "Epoch 20/20\n",
            "720/720 [==============================] - 4s 6ms/step - loss: 1.8291 - accuracy: 0.2819 - val_loss: 1.9944 - val_accuracy: 0.2376\n"
          ]
        }
      ],
      "source": [
        "max_len = 157409  # Maximum length of audio files \n",
        "padded_y = []\n",
        "for audio_data in audio_df.data:\n",
        "    max_samples = 157409\n",
        "    y_padded = librosa.util.fix_length(audio_data, size=max_samples)\n",
        "    y_padded = tf.convert_to_tensor(y_padded.astype('float32'))\n",
        "    padded_y.append(y_padded)\n",
        "audio_df['padded_data'] = padded_y\n",
        "\n",
        "num_folds = 5\n",
        "audio_df = audio_df.sample(frac=1).reset_index(drop=True)\n",
        "audio_df = audio_df.sample(frac=1).reset_index(drop=True)\n",
        "audio_df = audio_df.sample(frac=1).reset_index(drop=True)\n",
        "samples_per_fold = len(audio_df) // num_folds\n",
        "\n",
        "audio_df['fold'] = 0\n",
        "for i in range(num_folds):\n",
        "    start_index = i * samples_per_fold\n",
        "    end_index = start_index + samples_per_fold\n",
        "    audio_df.loc[start_index:end_index, 'fold'] = i\n",
        "\n",
        "def extract_embedding(wav_data, label, fold):\n",
        "  scores, embeddings, spectrogram = yamnet_model(wav_data)\n",
        "  num_embeddings = tf.shape(embeddings)[0]\n",
        "  return (embeddings,\n",
        "            tf.repeat(label, num_embeddings),\n",
        "            tf.repeat(fold, num_embeddings))\n",
        "\n",
        "files = audio_df['padded_data']\n",
        "targets = audio_df['emo_label']\n",
        "folds = audio_df['fold'].astype('float32')\n",
        "\n",
        "main_ds = tf.data.Dataset.from_tensor_slices((padded_y, targets, folds))\n",
        "main_ds.element_spec\n",
        "# extract embedding\n",
        "main_ds = main_ds.map(extract_embedding).unbatch()\n",
        "print(main_ds.element_spec)\n",
        "\n",
        "# Split the data into train, validation, and test sets\n",
        "cached_ds = main_ds.cache()\n",
        "train_ds = cached_ds.filter(lambda embedding, label, fold: fold < 3)\n",
        "val_ds = cached_ds.filter(lambda embedding, label, fold: fold == 3)\n",
        "test_ds = cached_ds.filter(lambda embedding, label, fold: fold == 4)\n",
        "\n",
        "# remove the folds column now that it's not needed anymore\n",
        "remove_fold_column = lambda embedding, label, fold: (embedding, label)\n",
        "\n",
        "train_ds = train_ds.map(remove_fold_column)\n",
        "val_ds = val_ds.map(remove_fold_column)\n",
        "test_ds = test_ds.map(remove_fold_column)\n",
        "\n",
        "train_ds = train_ds.cache().shuffle(1000).batch(32).prefetch(tf.data.AUTOTUNE)\n",
        "val_ds = val_ds.cache().batch(32).prefetch(tf.data.AUTOTUNE)\n",
        "test_ds = test_ds.cache().batch(32).prefetch(tf.data.AUTOTUNE)\n",
        "\n",
        "# Build the classifier\n",
        "model = tf.keras.Sequential([\n",
        "    tf.keras.layers.Input(shape=(1024), dtype=tf.float32,\n",
        "                          name='input_embedding'),\n",
        "    tf.keras.layers.Dropout(0.5),            \n",
        "    tf.keras.layers.Dense(512, activation='relu'),\n",
        "    tf.keras.layers.Dense(7, activation='softmax')\n",
        "], name='my_model')\n",
        "\n",
        "# Compile the classifier\n",
        "model.compile(loss='sparse_categorical_crossentropy',\n",
        "              optimizer=\"adam\",\n",
        "              metrics=['accuracy'])\n",
        "callback = tf.keras.callbacks.EarlyStopping(monitor='loss',\n",
        "                                            patience=3,restore_best_weights=True)\n",
        "\n",
        "# Train the classifier\n",
        "history = model.fit(train_ds,\n",
        "                    epochs=20,\n",
        "                    validation_data=val_ds,\n",
        "                    callbacks=callback)\n",
        "\n",
        "\n"
      ]
    },
    {
      "cell_type": "code",
      "execution_count": null,
      "metadata": {
        "colab": {
          "base_uri": "https://localhost:8080/"
        },
        "id": "ENj3ikVAYEPP",
        "outputId": "caa486e0-6c63-4a92-ea86-5b5d7f72aa79"
      },
      "outputs": [
        {
          "output_type": "stream",
          "name": "stdout",
          "text": [
            "240/240 [==============================] - 3s 3ms/step - loss: 1.9961 - accuracy: 0.2103\n",
            "Loss:  1.9960994720458984\n",
            "Accuracy:  0.2102864533662796\n"
          ]
        }
      ],
      "source": [
        "loss, accuracy = model.evaluate(test_ds)\n",
        "\n",
        "print(\"Loss: \", loss)\n",
        "print(\"Accuracy: \", accuracy)"
      ]
    },
    {
      "cell_type": "code",
      "execution_count": null,
      "metadata": {
        "id": "ZSKiC2sKTGO6",
        "colab": {
          "base_uri": "https://localhost:8080/",
          "height": 452
        },
        "outputId": "525b08cc-3bdc-466c-82b0-31beeb923268"
      },
      "outputs": [
        {
          "output_type": "display_data",
          "data": {
            "text/plain": [
              "<Figure size 640x480 with 2 Axes>"
            ],
            "image/png": "[encoded data removed]"
          },
          "metadata": {}
        }
      ],
      "source": [
        "from matplotlib import pyplot\n",
        " \n",
        "# plot loss during training\n",
        "pyplot.subplot(211)\n",
        "pyplot.title('Loss')\n",
        "pyplot.plot(history.history['loss'], label='train')\n",
        "pyplot.plot(history.history['val_loss'], label='validation')\n",
        "pyplot.legend()\n",
        "# plot accuracy during training\n",
        "pyplot.subplot(212)\n",
        "pyplot.title('Accuracy')\n",
        "pyplot.plot(history.history['accuracy'], label='train')\n",
        "pyplot.plot(history.history['val_accuracy'], label='validation')\n",
        "pyplot.legend()\n",
        "pyplot.show()"
      ]
    },
    {
      "cell_type": "code",
      "source": [
        "y_pred = []  # store predicted labels\n",
        "y_true = []  # store true labels\n",
        "\n",
        "# iterate over the dataset\n",
        "for image_batch, label_batch in test_ds:   # use dataset.unbatch() with repeat\n",
        "   # append true labels\n",
        "   y_true.append(label_batch)\n",
        "   # compute predictions\n",
        "   preds = model.predict(image_batch)\n",
        "   # append predicted labels\n",
        "   y_pred.append(np.argmax(preds, axis = 1))\n",
        "\n",
        "# convert the true and predicted labels into tensors\n",
        "correct_labels = tf.concat([item for item in y_true], axis = 0)\n",
        "predicted_labels = tf.concat([item for item in y_pred], axis = 0)"
      ],
      "metadata": {
        "colab": {
          "base_uri": "https://localhost:8080/"
        },
        "id": "rDunTYkm_Ui8",
        "outputId": "fd8b347d-c653-4526-98ed-4f6f730b7f2e"
      },
      "execution_count": null,
      "outputs": [
        {
          "output_type": "stream",
          "name": "stdout",
          "text": [
            "1/1 [==============================] - 0s 69ms/step\n",
            "1/1 [==============================] - 0s 21ms/step\n",
            "1/1 [==============================] - 0s 20ms/step\n",
            "1/1 [==============================] - 0s 21ms/step\n",
            "1/1 [==============================] - 0s 21ms/step\n",
            "1/1 [==============================] - 0s 20ms/step\n",
            "1/1 [==============================] - 0s 20ms/step\n",
            "1/1 [==============================] - 0s 26ms/step\n",
            "1/1 [==============================] - 0s 21ms/step\n",
            "1/1 [==============================] - 0s 20ms/step\n",
            "1/1 [==============================] - 0s 21ms/step\n",
            "1/1 [==============================] - 0s 22ms/step\n",
            "1/1 [==============================] - 0s 21ms/step\n",
            "1/1 [==============================] - 0s 24ms/step\n",
            "1/1 [==============================] - 0s 21ms/step\n",
            "1/1 [==============================] - 0s 21ms/step\n",
            "1/1 [==============================] - 0s 21ms/step\n",
            "1/1 [==============================] - 0s 23ms/step\n",
            "1/1 [==============================] - 0s 23ms/step\n",
            "1/1 [==============================] - 0s 23ms/step\n",
            "1/1 [==============================] - 0s 20ms/step\n",
            "1/1 [==============================] - 0s 20ms/step\n",
            "1/1 [==============================] - 0s 21ms/step\n",
            "1/1 [==============================] - 0s 22ms/step\n",
            "1/1 [==============================] - 0s 20ms/step\n",
            "1/1 [==============================] - 0s 21ms/step\n",
            "1/1 [==============================] - 0s 20ms/step\n",
            "1/1 [==============================] - 0s 21ms/step\n",
            "1/1 [==============================] - 0s 21ms/step\n",
            "1/1 [==============================] - 0s 23ms/step\n",
            "1/1 [==============================] - 0s 20ms/step\n",
            "1/1 [==============================] - 0s 20ms/step\n",
            "1/1 [==============================] - 0s 20ms/step\n",
            "1/1 [==============================] - 0s 20ms/step\n",
            "1/1 [==============================] - 0s 25ms/step\n",
            "1/1 [==============================] - 0s 21ms/step\n",
            "1/1 [==============================] - 0s 21ms/step\n",
            "1/1 [==============================] - 0s 22ms/step\n",
            "1/1 [==============================] - 0s 20ms/step\n",
            "1/1 [==============================] - 0s 21ms/step\n",
            "1/1 [==============================] - 0s 21ms/step\n",
            "1/1 [==============================] - 0s 20ms/step\n",
            "1/1 [==============================] - 0s 20ms/step\n",
            "1/1 [==============================] - 0s 21ms/step\n",
            "1/1 [==============================] - 0s 21ms/step\n",
            "1/1 [==============================] - 0s 21ms/step\n",
            "1/1 [==============================] - 0s 24ms/step\n",
            "1/1 [==============================] - 0s 23ms/step\n",
            "1/1 [==============================] - 0s 22ms/step\n",
            "1/1 [==============================] - 0s 20ms/step\n",
            "1/1 [==============================] - 0s 20ms/step\n",
            "1/1 [==============================] - 0s 20ms/step\n",
            "1/1 [==============================] - 0s 22ms/step\n",
            "1/1 [==============================] - 0s 22ms/step\n",
            "1/1 [==============================] - 0s 21ms/step\n",
            "1/1 [==============================] - 0s 22ms/step\n",
            "1/1 [==============================] - 0s 22ms/step\n",
            "1/1 [==============================] - 0s 21ms/step\n",
            "1/1 [==============================] - 0s 21ms/step\n",
            "1/1 [==============================] - 0s 20ms/step\n",
            "1/1 [==============================] - 0s 21ms/step\n",
            "1/1 [==============================] - 0s 22ms/step\n",
            "1/1 [==============================] - 0s 21ms/step\n",
            "1/1 [==============================] - 0s 22ms/step\n",
            "1/1 [==============================] - 0s 21ms/step\n",
            "1/1 [==============================] - 0s 22ms/step\n",
            "1/1 [==============================] - 0s 24ms/step\n",
            "1/1 [==============================] - 0s 21ms/step\n",
            "1/1 [==============================] - 0s 21ms/step\n",
            "1/1 [==============================] - 0s 21ms/step\n",
            "1/1 [==============================] - 0s 23ms/step\n",
            "1/1 [==============================] - 0s 20ms/step\n",
            "1/1 [==============================] - 0s 20ms/step\n",
            "1/1 [==============================] - 0s 22ms/step\n",
            "1/1 [==============================] - 0s 22ms/step\n",
            "1/1 [==============================] - 0s 21ms/step\n",
            "1/1 [==============================] - 0s 24ms/step\n",
            "1/1 [==============================] - 0s 20ms/step\n",
            "1/1 [==============================] - 0s 22ms/step\n",
            "1/1 [==============================] - 0s 22ms/step\n",
            "1/1 [==============================] - 0s 21ms/step\n",
            "1/1 [==============================] - 0s 23ms/step\n",
            "1/1 [==============================] - 0s 27ms/step\n",
            "1/1 [==============================] - 0s 20ms/step\n",
            "1/1 [==============================] - 0s 22ms/step\n",
            "1/1 [==============================] - 0s 22ms/step\n",
            "1/1 [==============================] - 0s 21ms/step\n",
            "1/1 [==============================] - 0s 21ms/step\n",
            "1/1 [==============================] - 0s 21ms/step\n",
            "1/1 [==============================] - 0s 21ms/step\n",
            "1/1 [==============================] - 0s 21ms/step\n",
            "1/1 [==============================] - 0s 21ms/step\n",
            "1/1 [==============================] - 0s 28ms/step\n",
            "1/1 [==============================] - 0s 21ms/step\n",
            "1/1 [==============================] - 0s 21ms/step\n",
            "1/1 [==============================] - 0s 20ms/step\n",
            "1/1 [==============================] - 0s 22ms/step\n",
            "1/1 [==============================] - 0s 23ms/step\n",
            "1/1 [==============================] - 0s 20ms/step\n",
            "1/1 [==============================] - 0s 22ms/step\n",
            "1/1 [==============================] - 0s 21ms/step\n",
            "1/1 [==============================] - 0s 23ms/step\n",
            "1/1 [==============================] - 0s 21ms/step\n",
            "1/1 [==============================] - 0s 20ms/step\n",
            "1/1 [==============================] - 0s 22ms/step\n",
            "1/1 [==============================] - 0s 20ms/step\n",
            "1/1 [==============================] - 0s 20ms/step\n",
            "1/1 [==============================] - 0s 23ms/step\n",
            "1/1 [==============================] - 0s 20ms/step\n",
            "1/1 [==============================] - 0s 20ms/step\n",
            "1/1 [==============================] - 0s 22ms/step\n",
            "1/1 [==============================] - 0s 25ms/step\n",
            "1/1 [==============================] - 0s 20ms/step\n",
            "1/1 [==============================] - 0s 22ms/step\n",
            "1/1 [==============================] - 0s 20ms/step\n",
            "1/1 [==============================] - 0s 20ms/step\n",
            "1/1 [==============================] - 0s 21ms/step\n",
            "1/1 [==============================] - 0s 21ms/step\n",
            "1/1 [==============================] - 0s 22ms/step\n",
            "1/1 [==============================] - 0s 20ms/step\n",
            "1/1 [==============================] - 0s 21ms/step\n",
            "1/1 [==============================] - 0s 22ms/step\n",
            "1/1 [==============================] - 0s 21ms/step\n",
            "1/1 [==============================] - 0s 21ms/step\n",
            "1/1 [==============================] - 0s 20ms/step\n",
            "1/1 [==============================] - 0s 20ms/step\n",
            "1/1 [==============================] - 0s 22ms/step\n",
            "1/1 [==============================] - 0s 21ms/step\n",
            "1/1 [==============================] - 0s 20ms/step\n",
            "1/1 [==============================] - 0s 23ms/step\n",
            "1/1 [==============================] - 0s 20ms/step\n",
            "1/1 [==============================] - 0s 24ms/step\n",
            "1/1 [==============================] - 0s 20ms/step\n",
            "1/1 [==============================] - 0s 21ms/step\n",
            "1/1 [==============================] - 0s 21ms/step\n",
            "1/1 [==============================] - 0s 23ms/step\n",
            "1/1 [==============================] - 0s 22ms/step\n",
            "1/1 [==============================] - 0s 21ms/step\n",
            "1/1 [==============================] - 0s 21ms/step\n",
            "1/1 [==============================] - 0s 21ms/step\n",
            "1/1 [==============================] - 0s 26ms/step\n",
            "1/1 [==============================] - 0s 23ms/step\n",
            "1/1 [==============================] - 0s 22ms/step\n",
            "1/1 [==============================] - 0s 21ms/step\n",
            "1/1 [==============================] - 0s 23ms/step\n",
            "1/1 [==============================] - 0s 25ms/step\n",
            "1/1 [==============================] - 0s 25ms/step\n",
            "1/1 [==============================] - 0s 26ms/step\n",
            "1/1 [==============================] - 0s 23ms/step\n",
            "1/1 [==============================] - 0s 22ms/step\n",
            "1/1 [==============================] - 0s 23ms/step\n",
            "1/1 [==============================] - 0s 23ms/step\n",
            "1/1 [==============================] - 0s 21ms/step\n",
            "1/1 [==============================] - 0s 23ms/step\n",
            "1/1 [==============================] - 0s 22ms/step\n",
            "1/1 [==============================] - 0s 23ms/step\n",
            "1/1 [==============================] - 0s 22ms/step\n",
            "1/1 [==============================] - 0s 23ms/step\n",
            "1/1 [==============================] - 0s 25ms/step\n",
            "1/1 [==============================] - 0s 23ms/step\n",
            "1/1 [==============================] - 0s 27ms/step\n",
            "1/1 [==============================] - 0s 23ms/step\n",
            "1/1 [==============================] - 0s 23ms/step\n",
            "1/1 [==============================] - 0s 21ms/step\n",
            "1/1 [==============================] - 0s 21ms/step\n",
            "1/1 [==============================] - 0s 24ms/step\n",
            "1/1 [==============================] - 0s 22ms/step\n",
            "1/1 [==============================] - 0s 22ms/step\n",
            "1/1 [==============================] - 0s 23ms/step\n",
            "1/1 [==============================] - 0s 21ms/step\n",
            "1/1 [==============================] - 0s 23ms/step\n",
            "1/1 [==============================] - 0s 22ms/step\n",
            "1/1 [==============================] - 0s 23ms/step\n",
            "1/1 [==============================] - 0s 21ms/step\n",
            "1/1 [==============================] - 0s 20ms/step\n",
            "1/1 [==============================] - 0s 22ms/step\n",
            "1/1 [==============================] - 0s 21ms/step\n",
            "1/1 [==============================] - 0s 21ms/step\n",
            "1/1 [==============================] - 0s 21ms/step\n",
            "1/1 [==============================] - 0s 20ms/step\n",
            "1/1 [==============================] - 0s 22ms/step\n",
            "1/1 [==============================] - 0s 20ms/step\n",
            "1/1 [==============================] - 0s 24ms/step\n",
            "1/1 [==============================] - 0s 20ms/step\n",
            "1/1 [==============================] - 0s 20ms/step\n",
            "1/1 [==============================] - 0s 20ms/step\n",
            "1/1 [==============================] - 0s 21ms/step\n",
            "1/1 [==============================] - 0s 22ms/step\n",
            "1/1 [==============================] - 0s 21ms/step\n",
            "1/1 [==============================] - 0s 22ms/step\n",
            "1/1 [==============================] - 0s 27ms/step\n",
            "1/1 [==============================] - 0s 22ms/step\n",
            "1/1 [==============================] - 0s 20ms/step\n",
            "1/1 [==============================] - 0s 20ms/step\n",
            "1/1 [==============================] - 0s 23ms/step\n",
            "1/1 [==============================] - 0s 20ms/step\n",
            "1/1 [==============================] - 0s 22ms/step\n",
            "1/1 [==============================] - 0s 21ms/step\n",
            "1/1 [==============================] - 0s 20ms/step\n",
            "1/1 [==============================] - 0s 21ms/step\n",
            "1/1 [==============================] - 0s 21ms/step\n",
            "1/1 [==============================] - 0s 21ms/step\n",
            "1/1 [==============================] - 0s 18ms/step\n",
            "1/1 [==============================] - 0s 20ms/step\n",
            "1/1 [==============================] - 0s 20ms/step\n",
            "1/1 [==============================] - 0s 21ms/step\n",
            "1/1 [==============================] - 0s 20ms/step\n",
            "1/1 [==============================] - 0s 25ms/step\n",
            "1/1 [==============================] - 0s 22ms/step\n",
            "1/1 [==============================] - 0s 20ms/step\n",
            "1/1 [==============================] - 0s 21ms/step\n",
            "1/1 [==============================] - 0s 20ms/step\n",
            "1/1 [==============================] - 0s 22ms/step\n",
            "1/1 [==============================] - 0s 20ms/step\n",
            "1/1 [==============================] - 0s 20ms/step\n",
            "1/1 [==============================] - 0s 20ms/step\n",
            "1/1 [==============================] - 0s 24ms/step\n",
            "1/1 [==============================] - 0s 21ms/step\n",
            "1/1 [==============================] - 0s 22ms/step\n",
            "1/1 [==============================] - 0s 21ms/step\n",
            "1/1 [==============================] - 0s 20ms/step\n",
            "1/1 [==============================] - 0s 20ms/step\n",
            "1/1 [==============================] - 0s 23ms/step\n",
            "1/1 [==============================] - 0s 20ms/step\n",
            "1/1 [==============================] - 0s 22ms/step\n",
            "1/1 [==============================] - 0s 22ms/step\n",
            "1/1 [==============================] - 0s 21ms/step\n",
            "1/1 [==============================] - 0s 23ms/step\n",
            "1/1 [==============================] - 0s 22ms/step\n",
            "1/1 [==============================] - 0s 21ms/step\n",
            "1/1 [==============================] - 0s 22ms/step\n",
            "1/1 [==============================] - 0s 22ms/step\n",
            "1/1 [==============================] - 0s 21ms/step\n",
            "1/1 [==============================] - 0s 22ms/step\n",
            "1/1 [==============================] - 0s 21ms/step\n",
            "1/1 [==============================] - 0s 22ms/step\n",
            "1/1 [==============================] - 0s 20ms/step\n",
            "1/1 [==============================] - 0s 21ms/step\n",
            "1/1 [==============================] - 0s 25ms/step\n",
            "1/1 [==============================] - 0s 21ms/step\n"
          ]
        }
      ]
    },
    {
      "cell_type": "code",
      "source": [
        "ax= plt.subplot()\n",
        "cm = confusion_matrix(y_test, classes_x)\n",
        "sns.heatmap(cm, annot=True, cmap='Blues', ax= ax)\n",
        "ax.xaxis.set_ticklabels(['Anger', 'Neutral','Surprise','Sad', 'Disgust', 'Happy', 'Fear'])\n",
        "ax.yaxis.set_ticklabels(['Anger', 'Neutral','Surprise','Sad', 'Disgust', 'Happy', 'Fear'])"
      ],
      "metadata": {
        "colab": {
          "base_uri": "https://localhost:8080/",
          "height": 555
        },
        "id": "B6VDZbm0s4H2",
        "outputId": "2788c88b-12b1-4814-d542-c386e1307984"
      },
      "execution_count": null,
      "outputs": [
        {
          "output_type": "execute_result",
          "data": {
            "text/plain": [
              "[Text(0, 0.5, 'Anger'),\n",
              " Text(0, 1.5, 'Neutral'),\n",
              " Text(0, 2.5, 'Surprise'),\n",
              " Text(0, 3.5, 'Sad'),\n",
              " Text(0, 4.5, 'Disgust'),\n",
              " Text(0, 5.5, 'Happy'),\n",
              " Text(0, 6.5, 'Fear')]"
            ]
          },
          "metadata": {},
          "execution_count": 36
        },
        {
          "output_type": "display_data",
          "data": {
            "text/plain": [
              "<Figure size 640x480 with 2 Axes>"
            ],
            "image/png": "[encoded data removed]"
          },
          "metadata": {}
        }
      ]
    },
    {
      "cell_type": "code",
      "source": [
        "y_test = correct_labels \n",
        "classes_x = predicted_labels\n",
        "accuracy = accuracy_score(y_test, classes_x)\n",
        "print('Accuracy: %f' % accuracy)\n",
        "precision = precision_score(y_test, classes_x,average='weighted')\n",
        "print('Precision: %f' % precision)\n",
        "recall = recall_score(y_test, classes_x,average='weighted')\n",
        "print('Recall: %f' % recall)\n",
        "f1 = f1_score(y_test, classes_x,average='weighted')\n",
        "print('F1 score: %f' % f1)"
      ],
      "metadata": {
        "colab": {
          "base_uri": "https://localhost:8080/"
        },
        "id": "kFLt8wZc_RjZ",
        "outputId": "6b1dfa96-6799-4c09-a3ff-47123771b8ad"
      },
      "execution_count": null,
      "outputs": [
        {
          "output_type": "stream",
          "name": "stdout",
          "text": [
            "Accuracy: 0.210286\n",
            "Precision: 0.108846\n",
            "Recall: 0.210286\n",
            "F1 score: 0.091301\n"
          ]
        }
      ]
    },
    {
      "cell_type": "code",
      "source": [],
      "metadata": {
        "id": "CwO0Gz8jswC7"
      },
      "execution_count": null,
      "outputs": []
    }
  ],
  "metadata": {
    "colab": {
      "machine_shape": "hm",
      "provenance": [],
      "include_colab_link": true
    },
    "gpuClass": "standard",
    "kernelspec": {
      "display_name": "Python 3",
      "name": "python3"
    },
    "language_info": {
      "name": "python"
    }
  },
  "nbformat": 4,
  "nbformat_minor": 0
}